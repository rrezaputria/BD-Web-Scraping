{
 "cells": [
  {
   "cell_type": "markdown",
   "id": "8c599610-3184-4500-be67-48036a65e682",
   "metadata": {
    "tags": []
   },
   "source": [
    "**MENJALANKAN KODE WEB SCRAPING**"
   ]
  },
  {
   "cell_type": "code",
   "execution_count": 2,
   "id": "11cee2c9-de0c-4597-936c-34fc054303c8",
   "metadata": {
    "tags": []
   },
   "outputs": [],
   "source": [
    "#untuk melakukan run program, dapat dijalankan menggunakan jupyter notebook dengan format file. ipynb ataupun menggunakan consule.\n",
    "#melakukan run program scraping dipenugasan ini menggunakan jupyter notebook, dengan penjabaran sebagai berikut."
   ]
  },
  {
   "cell_type": "markdown",
   "id": "c9289772-54fa-4e70-9040-31c4e42bb17f",
   "metadata": {},
   "source": [
    "**1. PROSES PENGUMPULAN URL BERITA DENGAN KATA KUNCI \"JOKO WIDODO\"**"
   ]
  },
  {
   "cell_type": "markdown",
   "id": "323f9e9a-1a2b-45e4-83b1-381261cae553",
   "metadata": {},
   "source": [
    "**1.1. PROSES PEROLEHAN JUDUL DAN URL BERITA**"
   ]
  },
  {
   "cell_type": "code",
   "execution_count": 1,
   "id": "5311b9bc-1f15-4a20-b049-14880f65c967",
   "metadata": {
    "tags": []
   },
   "outputs": [],
   "source": [
    "#run kode program \"selenium-search-url.py\" untuk mendapatkan teks dan url dari hasil pencarian dengan keyword \"Joko Widodo\n",
    "#hasilnya akan disimpan kedalam \"hasil-search-text-url.txt\" yang berisi judul dan url (link) berita\n",
    "\n",
    "!python selenium-search-url.py > hasil-search-text-url.txt"
   ]
  },
  {
   "cell_type": "markdown",
   "id": "7548b2b2-12e0-43b2-82d7-512470959589",
   "metadata": {},
   "source": [
    "**1.2. PROSES PEROLEHAN URL BERITA (SAJA)**"
   ]
  },
  {
   "cell_type": "code",
   "execution_count": 2,
   "id": "6265dafd-dd17-4afb-b332-ebb9cbff75bd",
   "metadata": {
    "tags": []
   },
   "outputs": [],
   "source": [
    "#run kode program \"selenium-search-url.py\" untuk mendapatkan teks dan url dari hasil pencarian dengan keyword \"Joko Widodo\n",
    "#hasilnya akan disimpan kedalam \"hasil-search-url.txt\" yang berisi link berita url (link) berita saja\n",
    "\n",
    "!python selenium-search-url.py > hasil-search-url.txt"
   ]
  },
  {
   "cell_type": "markdown",
   "id": "c53a7a67-5b63-4a9b-910e-fc134f44e7e8",
   "metadata": {},
   "source": [
    "**2. PROSES EKTRAKSI BERITA DENGAN MENGGUNAKAN DUA URL TERATAS**"
   ]
  },
  {
   "cell_type": "code",
   "execution_count": 6,
   "id": "ba573776-eae5-4bd2-8ceb-fceef1317e7e",
   "metadata": {
    "tags": []
   },
   "outputs": [],
   "source": [
    "#dengan hasil url dari scraping yang berada dalam file \"hasil-search-url.txt\" akan dijalankan skrip \"selenium-browse-url.py\" \n",
    "#dan hasilnya akan disimpan dalam hasil-browse-url.txt\" \n",
    "#dipilih dua url teratas yang akan discraping dan dibersihkan lebih lanjut, yakni :\n",
    "\n",
    "!python selenium-browse-url.py -i hasil-search-url.txt -o hasil-scraping-text.txt"
   ]
  },
  {
   "cell_type": "markdown",
   "id": "0c95e78f-7a76-4af7-8d81-571e48279c93",
   "metadata": {},
   "source": [
    "**3. PROSES PEMBERSIHAN (CLEANING) PADA HASIL EKSTRAKSI BERITA**"
   ]
  },
  {
   "cell_type": "markdown",
   "id": "c3cd3732-6684-408e-80df-befa764df217",
   "metadata": {},
   "source": [
    "**3.1 PYTHON FILE**"
   ]
  },
  {
   "cell_type": "markdown",
   "id": "2e3a065f-39de-45b3-94e5-1f6a5204bff3",
   "metadata": {},
   "source": [
    "**3.1.1 PROSES PEMBERSIHAN \"\\n\"**"
   ]
  },
  {
   "cell_type": "code",
   "execution_count": 17,
   "id": "99f371ab-afb6-4725-ab7b-86a7da83e071",
   "metadata": {
    "tags": []
   },
   "outputs": [],
   "source": [
    "#dengan hasil url dari scraping yang berada dalam file \"hasil-search-url.txt\" akan dijalankan skrip \"slicen-cleaning.py\" \n",
    "#untuk melakukan pembersihan \\n\n",
    "#dan hasilnya akan disimpan dalam \"slicen-cleaning.txt\" \n",
    "\n",
    "!python slicen-cleaning.py"
   ]
  },
  {
   "cell_type": "markdown",
   "id": "0dd9dc93-dfdf-4f6c-abf0-4fd2ef44426f",
   "metadata": {},
   "source": [
    "**3.1.2 PROSES FILTERISASI PENGHAPUSAN BARIS DENGAN KATA KURANG DARI 5**"
   ]
  },
  {
   "cell_type": "code",
   "execution_count": 18,
   "id": "d940ef9a-b73d-4187-b75d-b262c42bd982",
   "metadata": {
    "tags": []
   },
   "outputs": [],
   "source": [
    "#dengan hasil url dari scraping yang berada dalam file \"hasil-search-url.txt\" akan dijalankan skrip \"filterisasi-cleaning.py\" \n",
    "#untuk melakukan pembersihan \\n dan fiterisasi penghapusan baris paragraf < 5 kata\n",
    "#dan hasilnya akan disimpan dalam \"filterisasi-cleaning.txt\" \n",
    "\n",
    "!python filterisasi-cleaning.py"
   ]
  },
  {
   "cell_type": "markdown",
   "id": "eff13d49-aef9-4588-9938-eed8d27a8032",
   "metadata": {},
   "source": [
    "**3.1.3 PROSES PENGUBAHAN OUTPUT KEDALAM DUA DIMENSI**"
   ]
  },
  {
   "cell_type": "code",
   "execution_count": 19,
   "id": "cb2b3db1-ffa2-4848-bf8c-720e57fd0e62",
   "metadata": {
    "tags": []
   },
   "outputs": [],
   "source": [
    "#dengan hasil url dari scraping yang berada dalam file \"hasil-search-url.txt\" akan dijalankan skrip \"dua-dimensi-cleaning.py\" \n",
    "#untuk melakukan pembersihan \\n, fiterisasi penghapusan baris paragraf < 5 kata, pengubahan output kedalam list dua dimensi\n",
    "#dan hasilnya akan disimpan dalam \"dua-dimensi-cleaning.txt\" \n",
    "\n",
    "!python dua-dimensi-cleaning.py"
   ]
  },
  {
   "cell_type": "markdown",
   "id": "53cd1856-f866-414f-8e0d-25e22985a24e",
   "metadata": {},
   "source": [
    "**3.1 Notebook**"
   ]
  },
  {
   "cell_type": "code",
   "execution_count": null,
   "id": "a2cfdfb1-a1bd-4b6b-af50-266694b1c62f",
   "metadata": {},
   "outputs": [],
   "source": [
    "#melakukan proses cleaning menggunakan notebook, yakni :"
   ]
  },
  {
   "cell_type": "code",
   "execution_count": 11,
   "id": "24afde26-a689-4204-88d5-aebee7f9f59f",
   "metadata": {
    "tags": []
   },
   "outputs": [],
   "source": [
    "#penggunaan library\n",
    "from selenium import webdriver\n",
    "from webdriver_manager.chrome import ChromeDriverManager\n",
    "from selenium.webdriver.chrome.service import Service as ChromeService\n",
    "from selenium.webdriver.chrome.options import Options as ChromeOptions\n",
    "import re\n",
    "\n",
    "\n",
    "#menghubungkan dengan chrome\n",
    "chrome_options = ChromeOptions()\n",
    "chrome_options.add_argument(\"--headless\")\n",
    "driver = webdriver.Chrome(service=ChromeService(ChromeDriverManager().install()))\n",
    "\n",
    "#define function untuk berita dengan dua url teratas dari file \"hasil-search-url.txt\"\n",
    "def read_urls(file_name):\n",
    "    with open(file_name, \"r\", encoding = \"utf-8\") as f:\n",
    "        urls = [line.rstrip(\"\\n\") for line in f][:2]\n",
    "    return urls\n",
    "\n",
    "#define function untuk pembersihan paragraf \\n, \\, ^, dan pola angka [] seperti contoh [9]\n",
    "def clean_paragraph(paragraph):\n",
    "    paragraph = re.sub(r'(\\[\\d+\\])|(\\d+\\s*([.!?])|(\\d+\\s*(?=\\n|$)))', '', paragraph)\n",
    "    paragraph = paragraph.replace('\\n', '').replace('\\\\', '').replace('\"', \"'\")\n",
    "    return paragraph\n",
    "\n",
    "\n",
    "#define function untuk scraping\n",
    "def scraping():\n",
    "    \n",
    "    data = [] #menyimpan data dalam list\n",
    "    \n",
    "    for url in urls:\n",
    "        driver.get(url)\n",
    "        elems = driver.find_elements(\"tag name\", \"p\")\n",
    "        \n",
    "        paragraphs = [] #menyimpan teks kedalam sublist dari list data, sehingga menjadi dua dimensi\n",
    "        for elem in elems:\n",
    "            if len(elem.text.split()) >= 5: #filterisasi penghapusan baris < 5\n",
    "                paragraphs.append(clean_paragraph(elem.text))\n",
    "        data.append(paragraphs)\n",
    "    \n",
    "    driver.quit()\n",
    "    return data\n",
    "\n",
    "\n",
    "name_url = \"hasil-search-url.txt\"\n",
    "urls = read_urls(name_url)\n",
    "output_cleaning = scraping() #hasilnya disimpan dalam variabel output_cleaning"
   ]
  },
  {
   "cell_type": "code",
   "execution_count": 12,
   "id": "ee7475a2-941e-44ad-aa78-6ee32db71da7",
   "metadata": {
    "tags": []
   },
   "outputs": [
    {
     "data": {
      "text/plain": [
       "[['Ir. H. Joko Widodo adalah Presiden ke-7 Republik Indonesia yang mulai menjabat sejak 20 Oktober  Lahir di Surakarta, Jawa Tengah, pada 21 Juni 1961, Joko Widodo pertama kali terjun ke pemerintahan sebagai Wali Kota Surakarta (Solo) pada 28 Juli 2005 hingga 1 Oktober ',\n",
       "  'Selepas itu, Joko Widodo menjabat sebagai Gubernur DKI Jakarta pada 15 Oktober 2012 sebelum terpilih sebagai Presiden Republik Indonesia pada Pemilihan Presiden (Pilpres)  Saat Pilpres tersebut Joko Widodo terpilih bersama pasangannya, Jusuf Kalla.',\n",
       "  'Dalam Pilpres 2019, Joko Widodo kembali terpilih sebagai Presiden Republik Indonesia untuk masa jabatannya yang kedua. Kali ini, Joko Widodo didampingi oleh Wakil Presiden K.H. Ma’ruf Amin dan dilantik pada 20 Oktober 2019 untuk masa jabatan 2019 hingga 2024 mendatang.',\n",
       "  'Pembangunan infrastruktur menjadi program prioritas di masa kepemimpinannya yang pertama. Pembangunan yang dilakukan secara merata hingga ke daerah terluar Indonesia ini dilakukan untuk mengejar ketertinggalan Indonesia dalam sektor ini dibandingkan negara-negara lain.',\n",
       "  'Program prioritas tersebut dibarengi dengan program berupa bantuan sosial seperti Kartu Indonesia Pintar (KIP), Kartu Indonesia Sehat (KIS), hingga Program Keluarga Harapan (PKH). Selain itu, sejak awal masa jabatannya, Joko Widodo juga mengupayakan reforma agraria dengan salah satunya melakukan percepatan penerbitan sertifikat hak atas tanah untuk mengurangi terjadinya sengketa lahan oleh karena ketiadaan sertifikat.',\n",
       "  'Di masa jabatannya yang kedua, Joko Widodo mengalihkan fokus pemerintahan pada pembangunan dan peningkatan kapasitas sumber daya manusia Indonesia untuk dapat bersaing dengan negara-negara lainnya. Adapun program pembangunan infrastruktur masih terus dilanjutkan bersamaan dengan itu.'],\n",
       " [\"Ir. H. Joko Widodo (Indonesia: [dʒɔkɔ widɔdɔ]; lahir 21 Juni 1961), lebih dikenal sebagai Jokowi, adalah presiden Indonesia ke-7 yang mulai menjabat sejak 20 Oktober  Terpilih dalam pemilu tahun 2014, Jokowi menjadi presiden Indonesia pertama yang bukan berasal dari elite politik atau militer Indonesia. Ia terpilih bersama Wakil Presiden Jusuf Kalla dan kembali terpilih bersama Wakil Presiden Ma'ruf Amin pada tahun  Sebelumnya ia menjabat sebagai Wali Kota Surakarta dan Gubernur DKI Jakarta.\",\n",
       "  'Jokowi mengawali karier politiknya sebagai wali kota Surakarta, sejak 28 Juli 2005 hingga 1 Oktober 2012, didampingi F.X. Hadi Rudyatmo sebagai wakil wali kota. Dua tahun menjalani periode keduanya menjadi Wali Kota Surakarta, Jokowi ditunjuk oleh partainya, Partai Demokrasi Indonesia Perjuangan (PDI-P), untuk bersaing dalam Pilkada Jakarta 2012 berpasangan dengan Basuki Tjahaja Purnama.',\n",
       "  \"Joko Widodo berasal dari keluarga sederhana, rumahnya pernah digusur sebanyak tiga kali ketika ia masih kecil, tetapi ia mampu menyelesaikan sekolahnya di Fakultas Kehutanan Universitas Gadjah Mada. Setelah lulus, ia menekuni profesinya sebagai pengusaha mebel. Karier politiknya dimulai dengan menjadi wali kota Surakarta pada  Namanya mulai dikenal setelah dianggap berhasil mengubah wajah Surakarta menjadi kota pariwisata, kota budaya, dan kota batik yang populer. Pada 20 September 2012, Jokowi berhasil memenangi Pilkada Jakarta  Kemenangannya dianggap mencerminkan dukungan populer untuk seorang pemimpin yang 'muda' dan 'bersih', meskipun umurnya sudah lebih dari 50 tahun.\",\n",
       "  'Semenjak terpilih sebagai gubernur, popularitasnya terus naik dan menjadi sorotan media. Akibatnya, muncul wacana untuk menjadikannya calon presiden untuk Pemilu Presiden  Ditambah lagi, hasil survei menunjukkan nama Jokowi selalu unggul. Pada akhirnya, ia dicalonkan sebagai calon dari PDI-P pada pemilihan presiden tahun itu, dengan Jusuf Kalla sebagai cawapres-nya. Jokowi terpilih setelah mengalahkan lawannya, Prabowo Subianto, yang sebelumnya membantah hasil pemilu namun pada akhirnya mengalah, dan Jokowi pada akhirnya dilantik pada 20 Oktober  Sejak menjabat, Jokowi berfokus pada pertumbuhan ekonomi dan pembangunan infrastruktur serta agenda ambisius kesehatan dan pendidikan. Dalam politik luar negeri, pemerintahannya menekankan “melindungi kedaulatan Indonesia”, dengan menenggelamkan banyak kapal ikan asing ilegal dan penentuan prioritas dan penjadwalan hukuman mati bagi penyelundup narkoba. Hal terakhir ini terjadi meskipun ada perwakilan yang kuat dan protes diplomatik dari negara-negara asing, termasuk Australia dan Prancis. Ia terpilih kembali dalam Pemilu Presiden 2019 untuk masa jabatan lima tahun kedua, sekali lagi mengalahkan Prabowo Subianto.',\n",
       "  'Joko Widodo lahir dari pasangan Widjiatno Notomihardjo dan Sudjiatmi. Ia merupakan anak sulung dan putra satu-satunya dari empat bersaudara. Ia memiliki tiga orang adik perempuan bernama Iit Sriyantini, Ida Yati, dan Titik Relawati. Ia sebenarnya memiliki seorang adik laki-laki bernama Joko Lukito, tetapi meninggal saat persalinan. Sebelum berganti nama, Joko Widodo memiliki nama kecil Mulyono. Ayahnya berasal dari Karanganyar, sementara kakek dan neneknya berasal dari sebuah desa di Boyolali. Pendidikannya diawali dengan masuk SD Negeri 112 Tirtoyoso yang dikenal sebagai sekolah untuk kalangan menengah ke bawah.',\n",
       "  'Dengan kesulitan hidup yang dialami, ia terpaksa berdagang, mengojek payung, dan menjadi kuli panggul untuk membiayai sendiri keperluan sekolah dan uang jajan sehari-hari. Saat anak-anak lain ke sekolah dengan sepeda, ia memilih untuk tetap berjalan kaki. Mewarisi keahlian bertukang kayu dari ayahnya, ia mulai bekerja sebagai penggergaji di umur 12 tahun. Jokowi kecil telah mengalami penggusuran rumah sebanyak tiga kali. Penggusuran yang dialaminya sebanyak tiga kali pada masa kecil mempengaruhi cara berpikirnya dan kepemimpinannya kelak setelah menjadi Wali Kota Surakarta saat harus menertibkan permukiman warga.',\n",
       "  'Setelah lulus SD, ia kemudian melanjutkan pendidikan di SMP Negeri 1 Surakarta. Ketika ia lulus SMP, ia sempat ingin masuk ke SMA Negeri 1 Surakarta, namun gagal sehingga pada akhirnya ia masuk ke SMA Negeri 6 Surakarta.',\n",
       "  'Jokowi menikah dengan Iriana di Surakarta pada 24 Desember 1986, dan memiliki 3 orang anak, yaitu Gibran Rakabuming Raka (1987), Kahiyang Ayu (1991), dan Kaesang Pangarep (1994).',\n",
       "  \"Dengan kemampuan akademis yang dimiliki, ia diterima di Jurusan Kehutanan, Fakultas Kehutanan Universitas Gajah Mada. Kesempatan ini dimanfaatkannya untuk belajar struktur kayu, pemanfaatan, dan teknologinya. Ia berhasil menyelesaikan pendidikannya dengan judul skripsi 'Studi tentang Pola Konsumsi Kayu Lapis pada Pemakaian Akhir di Kodya Surakarta' dan dengan gelar Insinyur (Ir.). Selain kuliah, ia juga tercatat aktif sebagai anggota Mapala Silvagama, unit kegiatan mahasiswa pecinta alam di fakultasnya.[butuh rujukan]\",\n",
       "  'Setelah lulus pada 1985, ia bekerja di BUMN PT Kertas Kraft Aceh, dan ditempatkan di area Hutan Pinus Merkusii di Dataran Tinggi Gayo, Aceh Tengah. Namun ia merasa tidak betah dan pulang menyusul istrinya yang sedang hamil tujuh bulan. Ia bertekad berbisnis di bidang kayu dan bekerja di usaha milik pamannya, Miyono, di bawah bendera CV Roda Jati. Pada tahun 1988, ia memberanikan diri membuka usaha sendiri dengan nama CV Rakabu, yang diambil dari nama anak pertamanya. Usahanya sempat berjaya dan juga naik turun karena tertipu pesanan yang akhirnya tidak dibayar. Namun pada tahun 1990 ia bangkit kembali dengan pinjaman modal Rp30 juta yang ia peroleh dari Ibunya.',\n",
       "  \"Usaha ini membawanya bertemu Bernard Chene, seorang pria berkebangsaan Prancis, yang akhirnya memberinya panggilan yang populer hingga kini, 'Jokowi'. Dengan kejujuran dan kerja kerasnya, ia mendapat kepercayaan dan bisa berkeliling Eropa yang membuka matanya. Pengaturan kota yang baik di Eropa menjadi inspirasinya untuk diterapkan di Solo dan menginspirasinya untuk memasuki dunia politik. Ia ingin menerapkan kepemimpinan manusiawi dan mewujudkan kota yang bersahabat untuk penghuninya yaitu daerah Surakarta.\",\n",
       "  'Pada pilkada kota Solo pada tahun 2005, Jokowi diusung oleh Partai Demokrasi Indonesia Perjuangan (PDI-P) dan Partai Kebangkitan Bangsa (PKB) untuk maju sebagai calon wali kota Surakarta. Ia berhasil memenangkan pemilihan tersebut dengan persentase suara sebesar 36,62%. Setelah terpilih, dengan berbagai pengalaman pada masa muda, ia mengembangkan Solo yang sebelumnya buruk penataannya dan menghadapi berbagai penolakan masyarakat untuk ditertibkan. Di bawah kepemimpinannya, Solo mengalami perubahan dan menjadi kajian di universitas dalam dan luar negeri. Salah satunya adalah kemampuan komunikasi politik Jokowi yang berbeda dengan kebanyakan gaya komunikasi politik pemimpin lain pada masa itu, yang menjadi kajian riset mahasiswa pascasarjana Universitas Indonesia.',\n",
       "  \"Di bawah kepemimpinannya, bus Batik Solo Trans diperkenalkan, berbagai kawasan seperti Jalan Slamet Riyadi dan Ngarsopuro diremajakan, dan Solo menjadi tuan rumah berbagai acara internasional. Selain itu, Jokowi juga dikenal akan pendekatannya dalam merelokasi pedagang kaki lima yang 'memanusiakan manusia'. Berkat pencapaiannya ini, pada tahun 2010, ia terpilih lagi sebagai Wali Kota Surakarta dengan suara melebihi 90%. Kemudian, pada tahun 2012, ia dicalonkan oleh PDI-P sebagai calon Gubernur DKI Jakarta.\",\n",
       "  'Jokowi diminta secara pribadi oleh Jusuf Kalla untuk mencalonkan diri sebagai Gubernur DKI Jakarta pada Pilgub DKI tahun  Karena merupakan kader PDI Perjuangan, maka Jusuf Kalla meminta dukungan dari Megawati Soekarnoputri, yang awalnya terlihat masih ragu. Sementara itu, Prabowo Subianto dari Partai Gerindra juga melobi PDI Perjuangan agar bersedia mendukung Jokowi sebagai calon gubernur karena membutuhkan 9 kursi lagi untuk bisa mengajukan calon gubernur. Sebagai wakilnya, Basuki Tjahaja Purnama yang saat itu menjadi anggota DPR dicalonkan mendampingi Jokowi. Pasangan ini awalnya tidak diunggulkan. Hal ini terlihat dari klaim calon pertama yang diperkuat oleh Lingkaran Survei Indonesia bahwa pasangan Fauzi Bowo dan Nachrowi Ramli akan memenangkan pilkada dalam 1 putaran. Namun hasil pilgub putaran pertama dari KPU memperlihatkan Jokowi memimpin dengan 42,6% suara, sementara Fauzi Bowo di posisi kedua dengan 34,05% suara.',\n",
       "  'Pasangan ini berbalik diunggulkan memenangi pemilukada DKI 2012 karena kedekatan Jokowi dengan Hidayat Nur Wahid saat pilkada Wali Kota Surakarta 2010 serta pendukung Faisal Basri dan Alex Noerdin dari hasil survei cenderung beralih kepadanya. Namun keadaan berbalik setelah partai-partai pendukung calon lainnya di putaran pertama malah menyatakan dukungan kepada Fauzi Bowo. Jokowi akhirnya mendapat dukungan dari tokoh-tokoh penting seperti Misbakhun dari PKS, Jusuf Kalla dari Partai Golkar, Indra J. Piliang dari Partai Golkar, serta Romo Heri yang merupakan adik ipar Fauzi Bowo.',\n",
       "  'Pertarungan politik juga merambah ke media sosial dengan peluncuran Jasmev, pembentukan media center, serta pemanfaatan media baru seperti Youtube. Putaran kedua juga diwarnai tudingan kampanye hitam yang antara lain berkisar dalam isu SARA, isu kebakaran yang disengaja, korupsi, dan politik transaksional. Pada 29 September 2012, KPUD DKI Jakarta menetapkan pasangan Jokowi - Ahok sebagai gubernur dan wakil gubernur DKI yang baru untuk masa bakti 2012–2017 menggantikan Fauzi Bowo - Prijanto.',\n",
       "  'Kebijakan Joko Widodo selama menjabat Gubernur DKI Jakarta banyak yang bersifat populis, seperti Kampung Deret, Kartu Jakarta Sehat dan Kartu Jakarta Pintar. Namun beberapa juga mendatangkan keberatan masyarakat, seperti dalam perbaikan saluran air, peremajaan bus kecil, dan sterilisasi jalur busway.',\n",
       "  'Di awal menjabat, ia mendahulukan program bantuan sosial melalui Kartu Jakarta Sehat dan Kartu Jakarta Pintar, dan setelah mendapat kendali atas APBD, menjalankan pembenahan saluran air di DKI Jakarta melalui program JEDI. Beberapa program transportasi warisan pemerintahan sebelumnya seperti 6 Ruas Tol dan Monorel terhambat. Sebaliknya, ia berkonsentrasi kepada transportasi massal MRT Jakarta, penambahan armada Transjakarta, dan peremajaan bus kecil. Ia juga mengupayakan pengambilalihan pengelolaan Sumber Daya Air melalui akuisisi Aetra dan Palyja.',\n",
       "  'Ia berperan dalam mengurangi diskriminasi dan nepotisme dalam jenjang karier Pegawai Negeri Sipil di DKI Jakarta melalui penerapan lelang jabatan. Sebagai salah satu dampaknya adalah terpilihnya pejabat dari kalangan minoritas yang mendapat penolakan masyarakat. Misalnya dalam kasus Lurah Susan. Jokowi menyatakan dukungan bagi Lurah Susan.',\n",
       "  'Pada masa pemerintahannya pula, DKI Jakarta mengadakan beberapa event kreatif seperti Jakarta Night Festival, Pesta rakyat, dan Festival Keraton Sedunia. Ia juga memperbaiki kebersihan lingkungan di Jakarta, antara lain dengan melarang atraksi Topeng Monyet.',\n",
       "  \"Setelah terpilih sebagai Gubernur DKI Jakarta, popularitas Jokowi melejit berkat rekam jejaknya yang baik dan pendekatannya yang membumi dan pragmatis, seperti yang ditunjukkan melalui program 'blusukan' untuk memeriksa keadaan di lapangan secara langsung. Akibatnya, Jokowi merajai survei-survei calon presiden dan menyingkirkan kandidat lainnya, sehingga muncul wacana untuk menjadikannya calon presiden. Selama berbulan-bulan wacana tersebut menjadi tidak pasti karena pencalonan Jokowi di PDI-P harus disetujui oleh Ketua Umum PDI-P Megawati Soekarnoputri, dan ia menegaskan baru akan menentukan calon setelah pemilihan umum legislatif pada bulan April. Namun, pada tanggal 14 Maret 2014, Megawati akhirnya menulis langsung surat mandat kepada Jokowi untuk menjadi calon presiden, dan Jokowi mengumumkan bahwa ia bersedia dan siap melaksanakan mandat tersebut untuk maju sebagai calon presiden Republik Indonesia dalam pemilihan umum presiden Indonesia  Selepas pengumuman ini, IHSG dan rupiah naik nilainya, yang dikaitkan dengan sentimen positif investor terhadap berita tersebut.\",\n",
       "  'Pada tanggal 19 Mei 2014, Jokowi mengumumkan bahwa Jusuf Kalla akan menjadi calon wakil presidennya. Pencalonan tersebut didukung oleh koalisi Partai Demokrasi Indonesia Perjuangan, Partai NasDem, Partai Kebangkitan Bangsa, dan Partai Hanura. Pada hari yang sama, Jokowi dan Jusuf Kalla secara resmi mendaftar di Komisi Pemilihan Umum.',\n",
       "  'Setelah mendengar hasil hitung cepat dari berbagai lembaga survei, Jokowi menyatakan kemenangan pada 9 Juli. Namun, lawannya, Prabowo Subianto juga menyatakan kemenangan, membingungkan warga Indonesia. Pada 22 Juli, beberapa jam sebelum pengumuman hasil pilpres, Prabowo mengundurkan diri dari pilpres. KPU pun mengumumkan kemenangan Jokowi berjam-jam kemudian. KPU menyatakan Jokowi menang dengan 53,15% suara (859 pemilih), sementara Prabowo mendapatkan 46,85% (444 suara), meskipun kubu Prabowo membantah total ini.',\n",
       "  \"Setelah kemenangannya, Jokowi menyatakan bahwa, tumbuh di bawah rezim Orde Baru yang otoriter dan korup, ia tidak pernah menyangka seseorang dengan latar belakang kelas bawah bisa menjadi presiden. The New York Times melaporkan dia mengatakan 'sekarang, ini sangat mirip dengan Amerika, ya? Ada impian Amerika, dan di sini kita memiliki impian Indonesia'. Jokowi adalah presiden Indonesia pertama yang tidak berasal dari militer atau elite politik, dan menurut komentator politik Salim Said, rakyat memandang Jokowi sebagai 'seseorang yang merupakan tetangga kita, yang memutuskan untuk terjun ke dunia politik dan mencalonkan diri sebagai presiden'.\",\n",
       "  'Pada 2018, Jokowi mengumumkan bahwa ia akan mencalonkan diri dalam pemilihan umum presiden  Wakil presiden Jusuf Kalla dianggap tidak memenuhi syarat untuk mencalonkan lagi karena batasan masa jabatan yang ditentukan untuk jabatan presiden dan wakil presiden (Jusuf Kalla telah menjalani masa jabatan lima tahun sebagai wakil presiden pada masa kepresidenan Susilo Bambang Yudhoyono (SBY) dari 2004 hingga 2009). Spekulasi mengenai siapa yang akan dipilih Jokowi sebagai calon wakil presidennya terfokus pada beberapa kandidat termasuk Mahfud MD, seorang mantan menteri pertahanan dan hakim agung Mahkamah Konstitusi.',\n",
       "  \"Pada 9 Agustus 2018, secara mengejutkan, Jokowi mengumumkan bahwa Ma'ruf Amin akan menjadi pasangannya. Mahfud telah dilaporkan sedang mempersiapkan diri untuk menjadi calon wakil presiden, namun, setelah dorongan oleh beberapa partai dari koalisi pemerintah Jokowi dan tokoh-tokoh Islam yang berpengaruh, Ma'ruf dipilih sebagai gantinya. Jokowi memilih Ma'ruf karena pengalamannya yang luas dalam urusan pemerintahan dan agama.\",\n",
       "  \"Pada Januari 2019, diberitakan bahwa Jokowi sedang mempertimbangkan pembebasan Abu Bakar Ba'asyir karena usia tua dan kesehatan yang menurun. Langkah ini dipandang kontroversial sebagai bagian dari semakin banyaknya tindakan yang diambil oleh Jokowi untuk menenangkan hati orang Muslim konservatif menjelang pemilihan. Rencana itu dibatalkan pada tanggal 23 Januari, karena Ba'asyir menolak untuk berjanji setia pada ideologi negara Pancasila yang merupakan salah satu syarat pembebasannya. Jokowi telah menolak untuk memberikan pandangan pada penahanan sekitar 000 Muslim Uighur oleh pemerintah Tiongkok di kamp-kamp pendidikan ulang di provinsi Xinjiang dengan menyatakan 'Saya tidak tahu tentang Xinjiang' dan tidak memberikan komentar.\",\n",
       "  'Setelah empat tahun menjabat, tingkat kepuasan publik terhadap Jokowi tetap tinggi, berkisar antara 60–70%. Hasil hitung cepat menunjukkan bahwa Jokowi diperkirakan memenangkan pilpres dengan suara 54 persen. Akan tetapi, Prabowo mengklaim bahwa perhitungan oleh tim kampanyenya sendiri menunjukkan bahwa dia meraih suara 62 persen.',\n",
       "  'Pergantian tampuk pimpinanpemerintahan Indonesia.',\n",
       "  'Meskipun berjanji untuk tidak memberikan jabatan pemerintahan hanya kepada sekutu politik selama kampanye tahun 2014, banyak anggota partai politik yang menerima jabatan menteri di kabinet pertama Jokowi. Pada tahun pertama pemerintahan Jokowi, ia mengendalikan pemerintahan minoritas hingga Golkar, partai terbesar kedua di Dewan Perwakilan Rakyat (DPR), beralih dari oposisi ke pemerintah. Jokowi membantah tudingan mencampuri urusan dalam negeri Golkar, meski diakui bahwa ada kemungkinan Luhut ikut mempengaruhi perubahan tersebut. Menteri Perindustrian Airlangga Hartarto pada kabinetnya terpilih sebagai ketua Golkar pada tahun  Partai Amanat Nasional (PAN) juga telah berpindah pihak sebelumnya tetapi kemudian kembali menjadi oposisi pada tahun ',\n",
       "  'Jokowi mengumumkan 34 nama tersebut di kabinetnya pada 26 Oktober  Meskipun dipuji karena inklusivitas perempuan, dengan Retno Marsudi menjadi menteri luar negeri perempuan pertama di Indonesia, mereka menerima kritik karena beberapa anggapan inklusi politik, seperti Puan Maharani (putri Megawati Sukarnoputri). Pemerintahan Jokowi juga melihat pembentukan dua kementerian baru (Kementerian Pekerjaan Umum dan Perumahan Rakyat serta Kementerian Lingkungan Hidup dan Kehutanan) dari penggabungan kementerian-kementerian lama, selain penggantian nama dan reorganisasi kementerian lain. Jokowi melakukan total tiga kali perombakan kabinet hingga tahun 2018, mencopot menteri seperti Rizal Ramli dan Bambang Brodjonegoro, serta memasukkan menteri seperti Luhut dan Direktur Bank Dunia, Sri Mulyani Indrawati. Perombakan kembali terjadi pada Desember 2020, menggantikan enam menteri termasuk dua menteri yang ditangkap KPK.',\n",
       "  'Ia dikritik oleh PDI-P karena kelemahan kebijakannya, dan legislator PDI-P Effendi Simbolon menyerukan pemakzulan terhadapnya. Pada tanggal 9 April 2015, saat Kongres PDI-P, pemimpin partai Megawati Sukarnoputri menyebut Jokowi sebagai pejabat. Dia mencatat bahwa calon presiden dicalonkan oleh partai politik, yang mengisyaratkan bahwa Jokowi berhutang budi pada partai tersebut dan harus menjalankan garis kebijakannya. Beberapa bulan sebelumnya, Megawati dan Jokowi sempat berselisih mengenai penunjukan kapolri baru, dimana Megawati mendukung mantan ajudannya Budi Gunawan sementara Jokowi mendukung Badrodin Haiti.',\n",
       "  'Setelah terpilih kembali, Jokowi mengumumkan kabinet keduanya pada tanggal 23 Oktober  Ia mempertahankan beberapa menteri seperti Sri Mulyani dan Luhut, tetapi juga memasukkan pendiri Gojek, Nadiem Makarim dan saingan politiknya, Prabowo Subianto masing-masing sebagai menteri pendidikan dan pertahanan.',\n",
       "  \"Pada tahun pertama masa jabatan presidennya yang kedua, tingkat persetujuannya turun menjadi 45,2%, dan tingkat ketidaksetujuannya naik menjadi 52%. Wakilnya, Ma'ruf Amin, mendapat tingkat ketidaksetujuan sebesar 67%. Rendahnya peringkat tersebut disebabkan oleh kebijakan yang tidak populer. Pada awal tahun 2023, peringkat persetujuannya mencapai angka tertinggi sepanjang masa, yaitu 76,2%, menyusul pelonggaran pembatasan COVID-\",\n",
       "  'Sebelum menjabat, Jokowi meminta presiden Susilo Bambang Yudhoyono (SBY) untuk bertanggung jawab atas keputusan kenaikan harga bahan bakar lebih lanjut dengan menghapuskan subsidi lebih lanjut. Upaya SBY sebelumnya telah menimbulkan kerusuhan sipil. Pada tanggal 1 Januari 2015, Jokowi mengambil tindakan yang di permukaan, tampak seperti mengurangi subsidi bahan bakar. Kebijakan tersebut memicu beberapa demonstrasi, dan Jokowi menyebutkan perlunya meningkatkan pendanaan untuk sektor infrastruktur, pendidikan, dan kesehatan. Namun, sejak bulan Maret 2015, pemerintah menetapkan harga bensin merek Premium jauh di bawah harga pasar, sehingga subsidi bahan bakar harus ditanggung oleh perusahaan minyak milik negara Pertamina dan bukan ditanggung langsung oleh pemerintah. Selain itu, pemerintah juga menerapkan program harga tunggal, yang bertujuan untuk menjual bahan bakar melalui jalur resmi dengan harga yang sama secara nasional, termasuk di wilayah terpencil Kalimantan dan Papua. Pemerintah mengeklaim bahwa hal itu tercapai pada tahun ',\n",
       "  'Pada kuartal pertama tahun 2015, PDB tahun-ke-tahun tumbuh sebesar 4,92%, dan pada kuartal kedua, tumbuh sebesar 4,6%, angka terendah sejak tahun  Sejak saat itu, pertumbuhan ekonomi masih berada di atas angka 5%, masih di bawah angka pertumbuhan ekonomi yang sehat yaitu sebesar 6%. Nilai tukar Rupiah (IDR) juga telah melemah selama masa pemerintahan Jokowi, dengan nilai tukar per Dolar AS sempat melewati Rp 000 pada tahun 2018, yang merupakan level terendah sejak krisis finansial Asia 1997, dan merosot lebih rendah ke 700 pada tahun  Inflasi tahun demi tahun pada bulan Juni 2015 sebesar 7,26%, lebih tinggi dibandingkan bulan Mei (7,15%) dan Juni tahun sebelumnya (6,7%).',\n",
       "  'Pemerintahan Jokowi melanjutkan kebijakan nasionalisme sumber daya seperti pendahulunya, dengan menasionalisasi beberapa aset yang dikuasai oleh perusahaan multinasional seperti Freeport McMoRan, TotalEnergies dan Chevron. Pada tahun 2018, sebagai langkah yang bertujuan untuk mengurangi impor, perusahaan minyak yang beroperasi di Indonesia diperintahkan untuk menjual minyak mentah mereka ke perusahaan milik negara Pertamina. Larangan juga diberlakukan terhadap ekspor bijih nikel mentah, yang dimaksudkan untuk membantu mendorong pengembangan industri lokal terkait nikel seperti pabrik peleburan dan pabrik baterai. Kebijakan ini diperluas lagi, dengan larangan ekspor bijih tembaga, timah, bauksit, dan emas yang belum diolah diperkirakan akan mulai berlaku pada pertengahan tahun ',\n",
       "  \"Pembangunan infrastruktur telah menjadi fitur penting pemerintahan Jokowi, dengan fokus pada perluasan jalan dan kereta api, pembangunan pelabuhan dan bandara, serta irigasi. Pada tahun 2016, anggaran negara mengalokasikan Rp 290 triliun (US$22 miliar) untuk infrastruktur, yang merupakan jumlah terbesar dalam sejarah Indonesia. Secara total, pemerintahan Jokowi merencanakan 265 proyek infrastruktur mulai tahun  Pada bulan September 2015, Indonesia memberikan proyek kereta api berkecepatan tinggi senilai $5,5 miliar kepada Tiongkok, menyebabkan kekecewaan Jepang, yang juga bersaing untuk proyek tersebut. Kementerian Perhubungan Indonesia memaparkan sejumlah kekurangan dalam rencana proyek tersebut, menimbulkan keraguan terhadap proyek tersebut dan menyoroti keterbatasan Jokowi dalam mewujudkan mega proyek menjadi kenyataan ketika ia mencoba menarik investor asing. Proyek penting lainnya termasuk penyelesaian jalan Trans Papua sepanjang 325 kilometer dan Jalan Tol Trans-Jawa, pembangunan awal Kereta Api Trans-Sulawesi dan Jalan Tol Trans-Sumatera, rencana senilai US$50 miliar untuk mengembangkan sektor maritim termasuk 24 'pelabuhan strategis', dan perluasan kapasitas bandara di daerah terpencil. Program pengembangan dan modernisasi pelabuhan, yang diberi nama program 'Jalan Tol Laut', bertujuan untuk mengurangi ketimpangan harga antara wilayah barat yang lebih berkembang dan wilayah timur yang berpenduduk lebih sedikit.\",\n",
       "  'Selain proyek-proyek besar, pemerintahan Jokowi juga menerapkan program dana desa di mana desa-desa di seluruh negeri menerima dana untuk dialokasikan pada infrastruktur dasar seperti jalan dan pasokan air, pengembangan pariwisata, dan usaha desa untuk meningkatkan perekonomian pedesaan. Janji awal kampanye adalah Rp 1,4 miliar (sekitar US$000) akan dialokasikan untuk setiap desa setiap tahunnya, meskipun pada tahun 2019, kurang dari satu miliar yang dialokasikan. Antara tahun 2015 dan 2018, Rp 187 triliun (US$14 miliar) telah direalokasikan melalui program ini. Pemerintah telah menargetkan untuk menyederhanakan sertifikasi tanah di seluruh negeri, dengan tujuan untuk mendistribusikan sertifikat kepemilikan tanah di seluruh negeri secara menyeluruh. Hal ini melibatkan peningkatan tingkat penerbitan sertifikat dari sekitar 000 menjadi beberapa juta setiap tahunnya. Pada tahun 2016, pemerintah menandatangani undang-undang amnesti pajak setelah perdebatan publik yang panjang dan penolakan, sehingga memberikan kesempatan kepada masyarakat kaya Indonesia untuk melaporkan aset mereka yang tidak dilaporkan sebelum pemerintah memperkuat peraturan dan pengawasan seputar impor dan ekspor. Ini menjadi program paling sukses dalam sejarah, dengan lebih dari Rp 865 triliun (sekitar US$366 miliar) aset yang sebelumnya tidak dilaporkan dilaporkan ke kantor pajak.',\n",
       "  'Pihak oposisi mengkritik belanja infrastruktur yang agresif karena meningkatkan utang nasional Indonesia sebesar 48% antara tahun 2014 dan Maret 2018 menjadi US$181 miliar. Mereka juga menunjukkan bahwa sebagian besar utang dialokasikan untuk remunerasi dibandingkan pembangunan infrastruktur. Pada bulan April 2018, Jokowi juga mengeluarkan kebijakan baru yang memperbolehkan tenaga kerja asing di Indonesia tanpa persyaratan kemampuan berbahasa Indonesia, beralasan bahwa hal itu akan meningkatkan investasi. Kebijakan tersebut mendapat tentangan besar dari serikat pekerja lokal, yang menyatakan bahwa kebijakan tersebut akan meningkatkan tingkat pengangguran.',\n",
       "  'Pada tahun 2020, DPR mengesahkan Undang-Undang Cipta Kerja. Meskipun dimaksudkan untuk meningkatkan investasi dan mengurangi birokrasi, hal ini juga dianggap melemahkan perlindungan tenaga kerja dan lingkungan hidup, sehingga menyebabkan serangkaian protes di kota-kota besar. Jokowi membela undang-undang tersebut dengan mengatakan bahwa undang-undang tersebut diperlukan untuk menciptakan lapangan kerja dan meminta para pengunjuk rasa untuk mengajukan gugatan ke Mahkamah Konstitusi Indonesia. Undang-undang tersebut, yang merevisi lebih dari 70 undang-undang sebelumnya dan memuat sekitar 200 klausul, telah diajukan oleh Jokowi setelah terpilih kembali pada tahun  Beberapa kelompok mengkritik ketidakjelasan pemerintah saat pembahasan undang-undang tersebut. Pada tahun yang sama, Indonesia mencapai tingkat inflasi terendah sepanjang sejarah dan menghadapi resesi ekonomi pertama sejak krisis Keuangan Asia tahun ',\n",
       "  'Pada bulan November 2021, Jokowi berjanji untuk mengakhiri dan membalikkan deforestasi di Indonesia pada tahun 2030, dalam perjanjian besar pertama KTT Iklim COP',\n",
       "  'Komisi Eropa secara resmi menyetujui langkah untuk menghentikan penggunaan biofuel yang berbasis minyak sawit pada tahun  Dalam pertemuan dengan Presiden Komisi Eropa Ursula von der Leyen, Jokowi menyatakan keprihatinannya terhadap Peraturan Deforestasi UE (EUDR), yang bertujuan untuk mencegah produk-produk yang terkait dengan deforestasi mencapai pasar UE.',\n",
       "  \"Pada awal masa jabatan pertamanya, koalisi oposisi di DPR berusaha untuk mencabut peraturan (Perppu) yang dikeluarkan oleh pendahulu Jokowi, yang menjamin terselenggaranya pemilihan kepala daerah langsung di Indonesia (dan mengesampingkan rancangan undang-undang yang dikeluarkan oleh pembuat undang-undang yang mengatur pemilihan tidak langsung). Jokowi mendukung pilkada langsung dan menentang upaya pencabutan peraturan tersebut, dengan menyatakan bahwa 'pilkada langsung, pada prinsipnya, tidak dapat dinegosiasikan'. Dalam tiga tahun pertama pemerintahannya, Jokowi mengeluarkan empat Perppu serupa. Pemerintahan Jokowi, termasuk partai-partai yang menentangnya selama pemilihan presiden, digambarkan sebagai pemerintahan tenda besar, dan oleh mantan menteri luar negeri Singapura, George Yeo sebagai 'demokrasi dengan ciri khas Jawa'.\",\n",
       "  'Setelah terpilih kembali pada tahun 2019, sejumlah politisi terkemuka mulai melontarkan gagasan untuk mengubah konstitusi agar Jokowi dapat mencalonkan diri untuk masa jabatan ketiga pada tahun  Anggota penting kabinet yang menyuarakan dukungan mereka terhadap perpanjangan batas masa jabatan termasuk Menteri Koordinator Airlangga Hartarto dan Luhut Binsar Pandjaitan. Usulan tersebut menjadi lebih menonjol setelah pandemi COVID-19, karena adanya gangguan terhadap program pemerintah pada masa jabatan keduanya. Pada bulan April 2022, Jokowi secara eksplisit mengumumkan bahwa ia tidak akan mencalonkan diri untuk masa jabatan ketiga, dan memerintahkan kabinetnya untuk menahan diri untuk tidak berbicara di depan umum mengenai perpanjangan batas masa jabatan atau penundaan pemilu.',\n",
       "  \"Meski tidak mencalonkan diri untuk masa jabatan ketiga, Jokowi secara eksplisit menyatakan kepada media bahwa ia tidak akan menjadi aktor netral, dan akan 'ikut campur' dalam Pemilihan Presiden  Ia juga melakukan pertemuan dengan pimpinan partai politik dalam kapasitasnya sebagai presiden. Pada bulan September 2023, dalam rapat umum, Jokowi menyatakan bahwa ia memiliki informasi intelijen yang dikumpulkan oleh badan-badan pemerintah (menyebutkan BIN dan BAIS) pada cara kerja internal partai politik. Pada Oktober 2023, Ketua Mahkamah Konstitusi Anwar Usman (kakak ipar Jokowi) mengeluarkan putusan yang memberi celah pada persyaratan usia minimal calon presiden dan wakil presiden, sehingga membolehkan putra Jokowi, Gibran Rakabuming Raka mencalonkan diri sebagai cawapres Prabowo pada tahun  Usman kemudian ditegur oleh majelis hakim atas keputusan tersebut dan diminta mundur sebagai Ketua Mahkamah Agung.\",\n",
       "  \"Eksekusi yudisial di Indonesia dilaksanakan berdasarkan keputusan presiden setelah hukuman mati dijatuhkan oleh pengadilan. Pada tahun 2015, Jokowi mengatakan bahwa ia tidak akan memberikan grasi bagi pelaku narkotika yang dijatuhi hukuman mati, dengan alasan bahwa Indonesia berada dalam keadaan darurat karena kejahatan terkait narkoba, mengutip statistik Jakarta Globe yang dilaporkan rusak. Sikapnya menuai kritik karena dapat merusak hubungan dengan negara asal para terpidana, dan juga membahayakan warga Indonesia yang menghadapi hukuman mati di luar negeri. Australia, Brasil, dan Belanda menarik duta besar mereka dari Indonesia setelah beberapa kali eksekusi pada tahun  Australia mengurangi bantuan luar negerinya ke Indonesia hampir setengahnya, dan Amnesty International mengeluarkan kecaman dengan mengatakan bahwa mereka menunjukkan 'pengabaian sepenuhnya terhadap proses hukum dan perlindungan hak asasi manusia'. Mantan ketua Mahkamah Konstitusi Indonesia Jimly Asshiddiqie, yang merupakan pemain kunci dalam lobi anti-hukuman mati di Jakarta, mengatakan dorongan untuk mengeksekusi warga Australia Myuran Sukumaran dan Andrew Chan datang dari Jokowi pribadi. The Sydney Morning Herald mengabarkan bahwa Jokowi tidak memiliki atau membaca dokumen terkait saat menolak permohonan grasi mereka. Pada tahun yang sama, Jokowi memberikan penangguhan hukuman sementara kepada Serge Atlaoui dan Mary Jane Veloso karena masih menunggu proses banding. Pada tahun 2017, terdapat sekitar 260 orang yang masih terpidana mati di Indonesia.\",\n",
       "  'Terkait terorisme, pemerintahan Jokowi pada awal tahun 2016 mengusulkan penggantian undang-undang anti-terorisme tahun  Setelah pengeboman Surabaya tahun 2018, serangan teroris terburuk di tanah Indonesia sejak Bom Bali 2002, undang-undang kontroversial tersebut disahkan, yang memungkinkan Tentara Nasional Indonesia untuk berpartisipasi dalam kegiatan kontraterorisme atas permintaan polisi dan persetujuan presiden. Undang-undang ini juga memperbolehkan penahanan yang lebih lama terhadap tersangka teroris dan mengizinkan penyadapan tanpa persetujuan pengadilan terlebih dahulu. Jokowi mengancam akan menerbitkan peraturan presiden pengganti undang-undang (perppu) jika RUU tersebut tidak disetujui DPR pada bulan Juni tahun itu.',\n",
       "  \"Selama masa pemerintahan Jokowi, banyak kejadian dimana orang ditangkap atau dilaporkan ke polisi karena melakukan aktivitas yang dianggap menghina presiden. Aktivis hak asasi manusia menganggap penangkapan tersebut sebagai pelanggaran terhadap jaminan kebebasan berpendapat dalam Konstitusi. Sebuah kelompok yang mengaku pendukung Jokowi melaporkan majalah Tempo ke polisi atas karikatur Jokowi sebagai Pinokio, setelah itu Istana Kepresidenan mengeluarkan pernyataan yang mengatakan 'Presiden menghormati kebebasan pers dan berpendapat'. Sebuah buku tentang Jokowi berjudul Jokowi Undercover dilarang beredar setelah diterbitkan dan penulisnya dijatuhi hukuman tiga tahun penjara dan pembeli buku tersebut disarankan untuk menyerahkan salinannya kepada pihak berwenang. Majalah Tempo menggambarkan buku setebal 436 halaman itu sebagai 'sampah dan tidak berasa, kumpulan laporan hoaks tentang Presiden Joko Widodo, tersebar di internet dan ruang obrolan dunia maya'. Rencana pemerintah untuk menghidupkan kembali undang-undang kolonial Belanda yang mengizinkan pemenjaraan karena menghina presiden menghasilkan protes yang meluas. Instituzi AMAR belakangan melaporkan menyusul aksi protes tersebut bahwa mereka menerima banyak keluhan dari para pelajar mengenai ancaman dan sanksi pengusiran atau skorsing dari sekolah dan universitasnya. Selain itu, remisi yang diberikan kepada pembunuh jurnalis dicabut menyusul kritik media.\",\n",
       "  'Menanggapi protes besar, pemerintahan Jokowi telah menimbulkan beberapa kontroversi. Pada tanggal 22 Mei 2019, di tengah kerusuhan pasca pemilu yang dilakukan oleh para pendukung calon presiden yang kalah, Prabowo Subianto; pemerintah membatasi kecepatan penyebaran foto dan video di media sosial untuk menghentikan masyarakat agar tidak terhasut oleh berita palsu dan seruan kekerasan. Setelah kejadian tersebut, kantor Amnesty International di Indonesia mengecam tindakan represif terhadap para demonstran, mengutuk tindakan tersebut sebagai pelanggaran berat hak asasi manusia dan menuntut pemerintah menyelidiki eksekusi di luar hukum dalam bentrokan tersebut. Pada bulan Agustus dan September 2019, pemerintah memblokir akses internet di provinsi Papua dan Papua Barat di tengah protes kekerasan melawan rasisme. Pengadilan Tata Usaha Negara Jakarta pada tahun 2020 memutuskan bahwa pemblokiran internet di Papua ilegal.',\n",
       "  \"Pada tahun 2017, Jokowi mendukung rancangan undang-undang kontroversial tentang organisasi massa, yang setelah disahkan mengakibatkan pembubaran Hizbut Tahrir cabang Indonesia. Ia berargumen bahwa undang-undang itu diperlukan untuk mempertahankan ideologi nasional, Pancasila. Pelarangan Front Pembela Islam (FPI) pada tahun 2020 juga didasarkan pada undang-undang tersebut. Dua puluh tiga hari sebelumnya, polisi telah menembak mati enam anggota FPI saat terjadi konfrontasi. Pembelaan presiden selanjutnya terhadap polisi selama bertugas dan pernyataannya bahwa tidak ada warga negara yang boleh melanggar hukum atau merugikan negara dikritik oleh Sekjen FPI, Munarman sebagai pembenaran atas pelanggaran hak asasi manusia dan kekerasan struktural. Seorang kepala polisi yang terlibat dalam pengejaran mobil dan pembunuhan berikutnya menyatakan bahwa para anggotanya bersenjata. Setelah disahkannya beberapa rancangan undang-undang yang kontroversial dan tindakan represif dari petugas keamanan terhadap protes besar sejak tahun 2019, pemerintahannya dikritik karena 'Neo-Otoritarianisme'. South China Morning Post bahkan menjulukinya sebagai 'Soeharto Kecil'.\",\n",
       "  'Kenaikan harga premi layanan kesehatan masyarakat BPJS Kesehatan melalui Perintah Eksekutif (Perpres) 64/2020 dikritik sebagai pelanggaran mencolok terhadap keputusan Mahkamah Agung yang membatalkan Perpres 82/2018 tentang kenaikan harga. Perpres 64/2020 sendiri ditandatangani di tengah pandemi COVID-19 yang telah menimbulkan kesusahan bagi masyarakat. Keprihatinan serupa juga diungkapkan oleh mantan Wakil Wali Kota Surakarta, F.X. Hadi Rudyatmo.',\n",
       "  \"Masa kepemimpinan Jokowi bertepatan dengan peringatan 50 tahun Pembantaian di Indonesia 1965–1966 pada tahun  Sebuah simposium yang didukung pemerintah untuk menyelesaikan pelanggaran hak asasi manusia seputar peristiwa tersebut diadakan pada tahun 2016, namun Jokowi mengatakan bahwa pemerintahannya tidak akan meminta maaf kepada para korban-korban pembersihan massal. Mengenai hak-hak LGBT, Jokowi menyatakan bahwa 'tidak boleh ada diskriminasi terhadap siapa pun', namun menambahkan bahwa 'dalam keyakinan kami, [gaya hidup LGBT] tidak diperbolehkan, Islam tidak mengizinkannya.' Di bawah kepemimpinannya, program transmigrasi yang kontroversial sekali lagi dihentikan, ketika pada tahun 2015 diputuskan untuk mengakhiri program migrasi ke provinsi Papua.\",\n",
       "  \"Menyusul pembunuhan Nofriansyah Yosua Hutabarat, seorang petugas kepolisian Indonesia pada bulan Juli 2022, terdapat tuduhan keterlibatan polisi dalam upaya menutup-nutupi. Kapolri Jenderal Listyo Sigit Prabowo mengambil alih penyelidikan, membentuk tim khusus yang beranggotakan anggota Komisi Hak Asasi Manusia dan Komisi Kepolisian. Jokowi ingin agar aparat bersikap terbuka terhadap apa yang terjadi: 'Buka apa adanya. Tidak ada yang ditutup-tutupi. Transparan. Itu saja. Ini penting agar masyarakat tidak ragu dengan kejadian yang terjadi. Ini yang harus dijaga. Kepercayaan masyarakat terhadap polisi harus dijaga.' Pada Agustus 2022, mantan atasan Hutabarat, Irjen Ferdy Sambo, Kepala Urusan Dalam Negeri Polri, bersama tiga orang lainnya, didakwa sebagai pelaku pembunuhan Hutabarat.\",\n",
       "  'Pada tanggal 27 Desember 2023, ratusan mahasiswa dari berbagai perguruan tinggi di Aceh, seperti: Universitas Abulyatama, Universitas Bina Bangsa Getsempena, dan Universitas Muhammadiyah Aceh, menyerbu tempat penampungan pengungsi Rohingya dan memaksa mereka keluar dari pusat konvensi di kota Banda Aceh, menuntut mereka dideportasi. Para pelajar juga terlihat menendang barang-barang milik pria, wanita, dan anak-anak Rohingya yang duduk di lantai sambil menangis ketakutan. Mereka membakar ban dan meneriakkan “Usir mereka” dan “Tolak Rohingya di Aceh”. Joko Widodo kemudian menyikapinya dengan mengajak masyarakat untuk menjaga toleransi dan perdamaian serta bersatu dalam menjaga rasa persatuan, gotong royong dan kemanusiaan, serta waspada terhadap krisis dunia seperti krisis pangan dan ekonomi, perselisihan antar bangsa dan peperangan.',\n",
       "  \"Sebelum terpilihnya Jokowi, kebijakan luar negeri Indonesia di bawah mantan presiden SBY dibentuk oleh pernyataan misi, 'Seribu kawan dan nol musuh'. Jokowi kemudian mengamanatkan kebijakan tiga arah, yaitu menjaga kedaulatan Indonesia, meningkatkan perlindungan WNI, dan mengintensifkan diplomasi ekonomi.\",\n",
       "  'Jokowi mencita-citakan Indonesia menjadi kekuatan maritim global (poros maritim dunia atau poros maritim global). Ia memandang laut mempunyai peranan yang semakin penting bagi masa depan Indonesia dan sebagai negara maritim, Indonesia harus menegaskan dirinya sebagai kekuatan antara dua samudra: Samudra Hindia dan Samudra Pasifik. Lima pilar doktrin poros maritim ini adalah membangun kembali budaya maritim Indonesia, menjaga dan mengelola sumber daya kelautan, mengembangkan infrastruktur dan konektivitas maritim, serta mengembangkan industri pelayaran dan pariwisata maritim, mengajak negara lain untuk bekerja sama di bidang kelautan dan menghilangkan sumber daya kelautan. konflik di laut, serta pengembangan kekuatan pertahanan maritim. Sebagai bagian dari visi ini, Jokowi telah mengambil sikap yang lebih tegas terhadap penangkapan ikan ilegal. Ia menyatakan bahwa Jakarta tidak dapat lagi mentolerir situasi di mana lebih dari 000 kapal beroperasi secara ilegal di perairannya setiap hari, sehingga mempermalukan kedaulatan Indonesia dan mengakibatkan kerugian tahunan sebesar lebih dari $20 miliar.',\n",
       "  \"Mengenai perebutan wilayah di Laut Tiongkok Selatan, khususnya di Kepulauan Natuna di mana sembilan garis putus-putus Tiongkok memotong klaim ZEE Indonesia, Jokowi menyatakan bahwa 'tidak akan ada kompromi mengenai kedaulatan', dan mengganti nama bagian perairan Indonesia di Laut Tiongkok Selatan menjadi 'Laut Natuna Utara'. Pada bulan Juni 2016, ia mengadakan rapat kabinet di lepas pantai dengan menggunakan korvet Angkatan Laut Indonesia KRI Imam Bonjol, menyerukan untuk meningkatkan patroli maritim di wilayah tersebut. Di bawah pemerintahannya, Indonesia telah merilis 'Visi Indo-Pasifik' untuk negara-negara ASEAN, yang menyerukan arsitektur regional dan mempertimbangkan Hindia dan Pasifik sebagai satu kawasan geostrategis yang saling berhubungan. Indonesia juga menandatangani perjanjian kerja sama trilateral dengan Malaysia dan Filipina, yang memungkinkan patroli terkoordinasi di Laut Sulu yang dipenuhi bajak laut.\",\n",
       "  'Di dunia Islam, Jokowi mengeluarkan pernyataan yang menyerukan para pemimpin Muslim pada pertemuan puncak Organisasi Kerja Sama Islam di Jakarta untuk bersatu dalam rekonsiliasi dan mendorong kemerdekaan Palestina. Di bawah pemerintahan Jokowi, Menteri Luar Negeri Indonesia telah mengunjungi Palestina tetapi menolak permohonan untuk menjalin hubungan diplomatik bilateral dengan Israel. Sebuah konsul kehormatan didirikan di Ramallah di Tepi Barat meskipun harus diresmikan di Amman, Yordania. Jokowi juga mengutuk penganiayaan terhadap Muslim Rohingya di Myanmar dan mengawasi pemberangkatan empat pesawat angkut Angkatan Udara Indonesia yang membawa 34 ton pasokan bantuan untuk Pengungsi Rohingya di Bangladesh. Pada bulan Oktober 2021, Jokowi menganjurkan keadilan vaksin COVID-19, mendesak negara-negara kaya untuk berbagi vaksin mereka dengan negara-negara miskin.',\n",
       "  'Menanggapi Invasi Rusia ke Ukraina 2022, Jokowi mengunjungi kedua negara pada bulan Juli 2022, bertemu dengan Presiden Ukraina Volodymyr Zelenskyy dan Presiden Rusia Vladimir Putin, dengan menekankan dalam pernyataan perlunya perdamaian dan untuk pemulihan rantai pasokan pangan global. Saat Indonesia menjadi tuan rumah KTT G20 2022 pada tahun itu, Jokowi juga mengundang Zelenskyy untuk hadir, namun tetap menolak seruan Ukraina untuk mencabut undangan Rusia ke KTT tersebut.',\n",
       "  \"Dalam konferensi pers di Gedung Putih pada 14 November 2023, Jokowi menyerukan gencatan senjata dalam perang Israel–Hamas, 'demi kemanusiaan', dan mendesak Presiden AS, Joe Biden untuk berbuat lebih banyak untuk mengakhiri 'kekejaman' di Jalur Gaza.\",\n",
       "  'Pada bulan April 2019, diumumkan bahwa Jokowi telah memutuskan dalam pertemuan dengan para menteri kabinet untuk memindahkan ibu kota Indonesia dari Jakarta ke lokasi di luar Jawa. Pada tanggal 25 Agustus 2019, diumumkan lebih lanjut bahwa ibu kota baru akan berlokasi di Kalimantan, antara kabupaten Penajam Paser Utara dan Kutai Kartanegara.',\n",
       "  \"Jokowi memeluk agama Islam dan bercerita bahwa ia pertama kali naik haji pada tahun 2003, dan sesudahnya umrah minimal empat kali. Namun, menjelang pemilihan umum presiden 2014, muncul berbagai tudingan yang mempertanyakan keislaman Jokowi, sehingga pada tanggal 24 Mei 2014 Jokowi menyatakan bahwa ia adalah bagian dari 'Islam yang rahmatan lil alamin, Islam yang hidup berketurunan dan berkarya di negara RI yang memegang teguh UUD ' Ia juga menyatakan bahwa ia bukan bagian dari kelompok Islam yang 'sesuka hatinya mengafirkan saudaranya sendiri', 'menindas agama lain', 'arogan dan menghunus pedang di tangan dan di mulut', 'suka menjejerkan fustun-fustunnya', 'menutupi perampokan hartanya, menutupi pedang berlumuran darah dengan gamis dan serban', atau 'membawa ayat-ayat Tuhan untuk menipu rakyat'.\",\n",
       "  'Sebagai Presiden Indonesia terpilih, Jokowi menegaskan sikap politiknya untuk memimpin Indonesia dengan kekayaan manusia, budaya, dan pluralitasnya supaya tidak kehilangan arah dalam mengejawantahkan isi UUD 1945 dan makna Pancasila. Sikap ini menurutnya juga dipandang perlu diimplementasikan oleh setiap pemimpin pada semua level pemerintahan baik kota hingga skala nasional. Jokowi memilih memaknai lewat ajaran trisakti Bung Karno yakni berdaulat di bidang politik, berdikari di bidang ekonomi, dan berkepribadian nasional di bidang kebudayaan.',\n",
       "  \"'Saya sebagai seorang Presiden juga harus punya ideologi jelas, apa itu? Berdaulat, berdikari dan berkepribadian. Ideologi kita sama, Pancasila, tetapi cara penerapannya berbeda. Ada yang lewat gerakan perubahan restorasi Indonesia, ada yang lewat cara cara lain. Seorang pemimpin baik di kota, kabupaten, gubernur provinsi, tingkat nasional, memimpin itu harus punya ideologi. Harus ada ideologinya. Tanpa itu kita tak punya arah.' \",\n",
       "  \"Atas prestasinya, oleh Majalah Tempo, Joko Widodo terpilih menjadi salah satu dari '10 Tokoh 2008'. Kebetulan di majalah yang sama pula, Basuki Tjahaja Purnama, atau akrab dengan panggilan Ahok pernah terpilih juga dalam '10 Tokoh 2006' atas jasanya memperbaiki layanan kesehatan dan pendidikan di Belitung Timur. Ahok kemudian menjadi pendampingnya di Pilgub DKI tahun \",\n",
       "  'Ia juga mendapat penghargaan internasional dari Kemitraan Pemerintahan Lokal Demokratis Asia Tenggara (Delgosea) ini atas keberhasilan Solo melakukan relokasi yang manusiawi dan pemberdayaan pedagang kaki lima.',\n",
       "  'Pada tanggal 12 Agustus 2011, ia juga mendapat penghargaan Bintang Jasa Utama untuk prestasinya sebagai kepala daerah mengabdikan diri kepada rakyat. Bintang Jasa Utama ini adalah penghargaan tertinggi yang diberikan kepada warga negara sipil. Pada Januari 2013, Joko Widodo dinobatkan sebagai wali kota terbaik ke-3 di dunia atas keberhasilannya dalam memimpin Surakarta sebagai kota seni dan budaya, kota paling bersih dari korupsi, serta kota yang paling baik penataannya. Oleh KPK, dia diberi penghargaan atas keberaniannya melaporkan berbagai barang gratifikasi yang diterima.',\n",
       "  'Atas kemampuannya mensosialisasikan program-progam pemerintah sehingga mendapat dukungan masyarakat banyak, ia diganjar sebagai Marketer of The Year 2012 oleh Markplus Conference 2013, Marketing: Into Innovation and Technology.',\n",
       "  \"Jokowi dikenal akan gaya kepemimpinannya yang pragmatis dan membumi. Ia sering kali melakukan 'blusukan' atau turun langsung ke lapangan untuk melihat langsung permasalahan yang ada dan mencari solusi yang tepat. 'Blusukan' juga dilakukan untuk menemui langsung warga dan mendengar keluh kesah mereka. Gaya yang unik ini dijuluki oleh The New York Times sebagai 'demokrasi jalanan'. Jokowi juga dianggap unik dari pemimpin lainnya karena tidak sungkan untuk bertanya langsung kepada warga dan mendekati mereka bila akan melancarkan suatu program. Namun, gaya ini juga menuai kritik. Misalnya, ketua Dewan Perwakilan Daerah, Irman Gusman menyatakan bahwa 'blusukan' hanya menghabiskan waktu dan energi, sementara yang dibutuhkan adalah kebijakan langsung dan bukan sekadar interaksi. Anies Baswedan juga menilai 'blusukan' merupakan pencitraan belaka tanpa memberikan solusi.\",\n",
       "  \"Selain 'blusukan', kepemimpinan Jokowi juga dikenal akan transparansinya. Misalnya, Joko Widodo dan Basuki Tjahaja Purnama sama-sama mengumumkan jumlah gaji bulanan dan Anggaran Pendapatan dan Belanja Daerah kepada umum. Ia juga memulai sejumlah program yang terkait dengan transparansi seperti online tax, e-budgeting, e-purchasing, dan cash management system. Selain itu, semua rapat dan kegiatan yang dihadiri oleh Jokowi dan Basuki direkam dan diunggah ke akun 'Pemprov DKI' di YouTube.\",\n",
       "  \"Gaya berkampanye Jokowi untuk menjadi Gubernur DKI Jakarta menekankan pendekatan langsung kepada masyarakat dengan mendatangi mereka langsung daripada mengumpulkan orang di lapangan. Jokowi mengklaim bahwa ia menghindari pemasangan spanduk, poster, stiker, dan baliho di taman kota atau jalan karena menurutnya dapat mengotori kota, sehingga ia secara langsung mencopot spanduk di depan bioskop Megaria, Jalan Diponegoro. Selama kampanye pilkada Jakarta, Jokowi juga dikenal akan baju kotak-kotaknya, yang menurutnya dibeli satu jam sebelum berangkat ke Komisi Pemilihan Umum Daerah dan dikatakan mewakili 'warna-warni Jakarta yang harus diakomodasi'.\",\n",
       "  'Salah satu kekuatan Jokowi dalam berkampanye adalah penggunaan media sosial. Selama kampanye pilkada Jakarta, ia meluncurkan Jasmev atau Jokowi Ahok Social Media Volunteer, yang merupakan jaringan antar kelompok sukarelawan tanpa bayaran. Selain itu, Jokowi juga membentuk media center dan mampu memanfaatkan YouTube sebagai wadah kampanye baru. Pihak Fauzi Bowo sendiri mengakui keunggulan Jokowi di kanal ini.',\n",
       "  \"Berdasarkan hasil audit Komisi Pemilihan Umum DKI Jakarta pada Agustus 2012, pemasukkan dana kampanye pasangan Jokowi-Basuki tercatat sebesar Rp16,31 miliar, sementara pengeluarannya mencapai Rp16,09 miliar. Sebagian besar dana dialokasikan untuk spanduk, alat peraga, dan bahan kampanye, dengan biaya penyebaran bahan kampanye sebesar Rp4,2 miliar, alat peraga sebesar Rp2,6 miliar, dan rapat umum sebesar Rp2,1 miliar. Biaya iklan cetak sendiri tercatat sebesar Rp729 juta, sementara biaya iklan radio mencapai Rp516 juta. Jokowi mengklaim bahwa sebagian besar dana digunakan untuk kampanye 'murah' dengan sasaran rakyat kecil. Sebagai perbandingan, pengeluaran kampanye Fauzi Bowo tercatat sebesar Rp62,57 miliar, sementara pemasukkan dana kampanyenya mencapai Rp62,63 miliar.\",\n",
       "  \"Berkat kampanyenya selama pemilihan umum Gubernur DKI Jakarta 2012 yang menjanjikan 'Jakarta Baru', ia melejit menjadi tokoh nasional yang dikenal bersih, merakyat, dan mampu menyelesaikan masalah. Namun, menjelang pemilihan umum presiden Indonesia 2014, dugaan keterlibatan Joko Widodo dalam kasus TransJakarta dikatakan mengganjal elektabilitas Joko Widodo. Selain itu, akibat gencarnya kampanye hitam, menurut Saiful Mujani Research and Consulting tren kesukaan masyarakat terhadap Jokowi menurun hingga 8% sampai April \",\n",
       "  \"Mantan tim sukses Jokowi diduga terlibat dalam kasus busway berkarat, bahkan keluarga Jokowi dituduh menerima aliran dana busway berkarat. Namun, Jokowi membantah hal tersebut, dan Jaksa Agung Basrief Arief menegaskan bahwa kasus ini 'belum atau boleh dikatakan tidak menyangkut kepada Jokowi'. Jokowi juga dikritik karena tidak mematuhi janjinya untuk menyelesaikan masa jabatannya sebagai gubernur Jakarta, walaupun Jokowi sendiri menyatakan bahwa bila ia menjadi presiden, akan lebih mudah mengurus Jakarta karena memiliki wewenang terhadap proyek pemerintah pusat di ibu kota. Ada anggapan bahwa Jokowi termasuk gagal mengatasi banjir dan macet. Anggapan bahwa Jokowi gagal dalam mengatasi banjir dan macet di Jakarta membuat popularitasnya menurun. Data dari BPS juga menunjukkan angka kemiskinan di Solo naik saat Jokowi menjadi wali kota Solo. Melesatnya popularitas Jokowi juga dikritik sebagai pengaruh media yang kerap menonjolkan kebaikan Jokowi sementara kelemahannya ditutupi. Selain itu, Jokowi didapati menaiki pesawat jet pribadi untuk berkampanye dari Banjarmasin ke Kota Malang, yang dianggap bertentangan dengan gaya hidup sederhana. Sementara itu, Guru Besar Ekonomi Universitas Indonesia Taufik Bahauddin mengkhawatirkan kontroversi yang terjadi pada pemerintahan Megawati seperti skandal BLBI, penjualan BUMN, penjualan kapal tanker VLCC Pertamina dan penjualan gas murah ke Tiongkok akan terulang pada pemerintahan Jokowi.\",\n",
       "  'Dia kembali menuai kontroversi setelah menunjuk HM Prasetyo sebagai Jaksa Agung. HM Prasetyo dinilai tidak punya pengalaman cukup baik di kejaksaan dan dianggap sebagai titipan partai politik.',\n",
       "  'Dia juga dinilai tidak konsisten karena mengangkat Airlangga Hartarto, Ketua Umum Partai Golkar sebagai Menteri Perindustrian, setelah awalnya meminta menteri tidak rangkap jabatan sebagai pengurus partai politik. Sebelumnya Puan Maharani juga menjabat Ketua DPP PDIP beberapa waktu saat menjabat sebagai Menteri Koordinator Pengembangan Manusia dan Kebudayaan.',\n",
       "  'Kemunculan nama Jokowi pada soal Ujian Nasional dan kedatangan Jokowi di kampus ITB juga menuai kontroversi karena dinilai sebagai tindakan politisasi.',\n",
       "  \"Pada masa kepresidenannya, Jokowi juga menuai kecaman setelah salah menyebutkan kota tempat kelahiran Presiden RI pertama Ir. Soekarno dalam pidatonya di alun-alun Kota Blitar pada tanggal 1 Juni  Jokowi menyebutkan Soekarno lahir di Blitar, namun secara sejarah Soekarno dilahirkan di Jalan Pandean, Peneleh, Surabaya. Beragam kritik pun dialamatkan kepada bawahannya seperti Setneg dan Tim Komunikasi Presiden akibat memberikan 'bahan yang salah' kepada Presiden.\",\n",
       "  \"Jokowi kembali menuai kontroversi dan protes luas dari berbagai elemen masyarakat ketika mengajukan calon tunggal Kapolri Komisaris Jenderal Polisi Budi Gunawan ke DPR pada pertengahan Januari  Budi dianggap sebagai calon Kapolri yang 'tidak bersih' oleh publik serta pernah menjadi ajudan mantan Presiden Megawati Soekarnoputri yang dianggap sebagai politik 'balas jasa'. Sehari sebelum disahkan sebagai calon Kapolri oleh DPR, Budi Gunawan ditetapkan sebagai tersangka oleh KPK atas kasus dugaan rekening gendut. Presiden Jokowi lalu memutuskan untuk menunda pelantikannya sebagai Kapolri hingga proses hukum yang membelit Budi Gunawan selesai serta menunjuk Wakapolri Komjen Pol Badrodin Haiti untuk melaksanakan tugas sehari-hari Kapolri. Pada akhirnya Badrodin Haiti resmi dilantik menjadi Kapolri oleh Presiden Jokowi pada tanggal 17 April 2015, lalu digantikan Tito Karnavian, sementara Budi Gunawan menempati posisi Kepala BIN.\",\n",
       "  \"Presiden Jokowi juga kembali menuai kecaman keras setelah menandatangani Peraturan Presiden tentang Kenaikan Uang Muka Mobil Pejabat. Jokowi pun mengaku tidak tahu Perpres yang ditandatanganinya dan akhirnya mencabut Peraturan tersebut. Namun terlanjur menghasilkan tertawaan 'I Don't Read What I Sign'.\",\n",
       "  'Jokowi sering kali dituduh membangkitkan pemerintahan otoriter seperti Orde Baru terkait beberapa kebijakannya yang dinilai melemahkan partai oposisi, membatasi kebebasan berpendapat atau berekspresi, dan tindakan represif aparat keamanan terhadap demonstrasi. Kebijakan lainnya seperti UU Cipta Kerja, Omnibus Law, dan UU ITE juga turut menjadi topik yang sering dibicarakan terkait tuduhan otoriter ini . Hal tersebut disangkal oleh Sekretaris Jenderal PDI-P, Hasto Kristiyanto, yang mengatakan pemerintah menindak perilaku melanggar hukum seperti merusak fasilitas umum maupun menyebar berita palsu sehingga apa yang dilakukan aparat keamanan bukanlah tindakan represif seperti perilaku rezim otoriter.',\n",
       "  'Karena merupakan pemimpin yang muncul di masa maraknya penggunaan media sosial, Joko Widodo adalah salah satu tokoh yang sering diserang dengan pemberitaan palsu, di antaranya adalah memiliki orang tua Tionghoa, non-Muslim, keluarga keturunan PKI, menantu hamil di luar nikah, dan lainnya.',\n",
       "  'Jokowi, adalah film drama Indonesia tahun  Film ini dibintangi oleh Teuku Rifnu Wikana dan Prisia Nasution. Film ini dirilis pada tanggal hari Kamis, 20 Juni 2013 untuk menyambut hari ulang tahun Gubernur DKI Jakarta Joko Widodo yang ke-52 pada tanggal hari Jumat, 21 Juni 2013, bersamaan dengan perayaan ulang tahun Daerah Khusus Ibukota Jakarta yang ke-486 pada tanggal hari Sabtu, 22 Juni [butuh rujukan]',\n",
       "  'Jokowi adalah Kita adalah film drama Indonesia yang mengisahkan tentang Joko Widodo. Film ini dibintangi oleh Ben Joshua, Sylvia Fully, dan Agustin Taidy. Film ini dirilis tanggal 20 November  Namun penayangannya mengalami penundaan karena keputusan pemerintah untuk menaikan harga Bahan Bakar Minyak (BBM).',\n",
       "  \"Salah satu ucapan Jokowi yang sangat populer adalah kalimat 'Yo ndak tau kok tanya saya' (dalam bahasa Jawa, biasa disingkat sebagai YNTKTS) yang secara harfiah berarti saya tidak tahu, mengapa ditanyakan kepada saya. Istilah ini muncul pada saat Jokowi masih menjabat sebagai Gubernur DKI Jakarta. Jokowi disebutkan sering menjawab pertanyaan para wartawan dengan kalimat tersebut. Istilah ini mulai populer di berbagai media sosial pada tahun 2020-an.\",\n",
       "  'Sementara itu, sejumlah buku mengenai kehidupan Joko Widodo telah diterbitkan. Di antaranya:',\n",
       "  \"'Efek Jokowi' adalah istilah yang diciptakan untuk menggambarkan pengaruh popularitas media tentang Jokowi terhadap politik dan perekonomian Indonesia. Ketika Jokowi dideklarasikan sebagai calon presiden pada Pemilihan umum Presiden Indonesia 2014, diyakini popularitas Partai Demokrasi Indonesia – Perjuangan terdongkrak hingga 30% pada Pemilu Legislatif Indonesia  Sementara di pasar modal, efeknya disebut bisa menggairahkan pasar saham Indonesia dan Rupiah, karena Jokowi dinilai punya rekam jejak yang bersih.\"]]"
      ]
     },
     "execution_count": 12,
     "metadata": {},
     "output_type": "execute_result"
    }
   ],
   "source": [
    "#menampilkan hasilnya\n",
    "\n",
    "output_cleaning"
   ]
  },
  {
   "cell_type": "code",
   "execution_count": 14,
   "id": "4d6882b6-5e30-4875-a56b-9f4281350815",
   "metadata": {
    "tags": []
   },
   "outputs": [
    {
     "data": {
      "text/plain": [
       "'Selepas itu, Joko Widodo menjabat sebagai Gubernur DKI Jakarta pada 15 Oktober 2012 sebelum terpilih sebagai Presiden Republik Indonesia pada Pemilihan Presiden (Pilpres)  Saat Pilpres tersebut Joko Widodo terpilih bersama pasangannya, Jusuf Kalla.'"
      ]
     },
     "execution_count": 14,
     "metadata": {},
     "output_type": "execute_result"
    }
   ],
   "source": [
    "#melakukan penampilan output url ke-1 paragraf ke-2\n",
    "#dengan indeks dimulai dari 0\n",
    "\n",
    "output_cleaning[0][1]"
   ]
  },
  {
   "cell_type": "code",
   "execution_count": 32,
   "id": "3773c078-a97e-4197-8486-b376197458de",
   "metadata": {
    "tags": []
   },
   "outputs": [
    {
     "data": {
      "text/plain": [
       "\"Ir. H. Joko Widodo (Indonesia: [dʒɔkɔ widɔdɔ]; lahir 21 Juni 1961), lebih dikenal sebagai Jokowi, adalah presiden Indonesia ke-7 yang mulai menjabat sejak 20 Oktober  Terpilih dalam pemilu tahun 2014, Jokowi menjadi presiden Indonesia pertama yang bukan berasal dari elite politik atau militer Indonesia. Ia terpilih bersama Wakil Presiden Jusuf Kalla dan kembali terpilih bersama Wakil Presiden Ma'ruf Amin pada tahun  Sebelumnya ia menjabat sebagai Wali Kota Surakarta dan Gubernur DKI Jakarta.\""
      ]
     },
     "execution_count": 32,
     "metadata": {},
     "output_type": "execute_result"
    }
   ],
   "source": [
    "#melakukan penampilan output url ke-2 paragraf ke-1\n",
    "#dengan indeks dimulai dari 0\n",
    "\n",
    "output_cleaning[1][0]"
   ]
  }
 ],
 "metadata": {
  "kernelspec": {
   "display_name": "Python 3 (ipykernel)",
   "language": "python",
   "name": "python3"
  },
  "language_info": {
   "codemirror_mode": {
    "name": "ipython",
    "version": 3
   },
   "file_extension": ".py",
   "mimetype": "text/x-python",
   "name": "python",
   "nbconvert_exporter": "python",
   "pygments_lexer": "ipython3",
   "version": "3.11.5"
  }
 },
 "nbformat": 4,
 "nbformat_minor": 5
}
